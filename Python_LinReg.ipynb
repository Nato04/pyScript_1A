{
 "cells": [
  {
   "cell_type": "markdown",
   "id": "5704bcc6-38b3-48e1-98ed-8a76ed4ec733",
   "metadata": {},
   "source": [
    "## Python Modeling Assignment - Natour¶¶\n",
    "## BGSP 7030 2023 - Natour¶¶\n",
    "## Import pandas,scikitlearn¶\n"
   ]
  },
  {
   "cell_type": "code",
   "execution_count": 1,
   "id": "7bf00168-d88b-4432-aa6b-222282f436ca",
   "metadata": {
    "tags": []
   },
   "outputs": [],
   "source": [
    "import matplotlib.pyplot as plt\n",
    "import pandas as pd\n",
    "from sklearn.linear_model import LinearRegression"
   ]
  },
  {
   "cell_type": "markdown",
   "id": "2ac1e9e8-dbe8-491c-acea-09274f18f4d5",
   "metadata": {},
   "source": [
    "## Set Notebook Variables¶"
   ]
  },
  {
   "cell_type": "code",
   "execution_count": 2,
   "id": "2111fb2f-ee6a-44e8-ae95-644650f2a8f6",
   "metadata": {
    "tags": []
   },
   "outputs": [],
   "source": [
    "filename = \"regrex1.csv\""
   ]
  },
  {
   "cell_type": "markdown",
   "id": "cdff2988-c1bf-4f2a-a939-d3f8f81dee41",
   "metadata": {},
   "source": [
    "## Use read_csv() to read regex1.csv File¶"
   ]
  },
  {
   "cell_type": "code",
   "execution_count": 3,
   "id": "767b621a-593e-4148-a371-361191070863",
   "metadata": {
    "tags": []
   },
   "outputs": [],
   "source": [
    "dataset = pd.read_csv(\"regrex1.csv\")"
   ]
  },
  {
   "cell_type": "code",
   "execution_count": 4,
   "id": "02d6116d-99e6-4b7e-892e-9b994d83f70d",
   "metadata": {
    "tags": []
   },
   "outputs": [
    {
     "name": "stdout",
     "output_type": "stream",
     "text": [
      "          y        x\n",
      "0    6.8102   9.8492\n",
      "1    9.8437  11.1450\n",
      "2    4.9767   5.1209\n",
      "3    5.0006   8.1085\n",
      "4    3.5047   3.5599\n",
      "5    3.6419   1.9883\n",
      "6    7.8725  15.5322\n",
      "7    5.1442   7.5202\n",
      "8    8.3883  14.0202\n",
      "9    6.8204   7.5226\n",
      "10   9.0185  14.3272\n",
      "11   2.6148   3.8950\n",
      "12   3.7367   1.8707\n",
      "13   2.8651   0.8347\n",
      "14  10.7469  18.3413\n",
      "15   2.3710   1.6645\n",
      "16   9.6653  17.0579\n",
      "17   7.1926   9.2375\n",
      "18  11.7833  21.0000\n",
      "19   3.9537   3.5286\n",
      "20  15.0000  25.0000\n",
      "21   7.9152   9.9008\n",
      "22   9.3368  17.5990\n",
      "23   8.7587  13.8790\n",
      "24   6.7813  10.8690\n",
      "25   7.9924  12.6238\n",
      "26   2.2806   0.9719\n",
      "27  10.4050  14.4814\n",
      "28   3.7891   2.1792\n",
      "29  10.9067  18.4052\n"
     ]
    }
   ],
   "source": [
    "print (dataset)"
   ]
  },
  {
   "cell_type": "markdown",
   "id": "4d5200aa-6363-46fb-909a-722307113f0f",
   "metadata": {},
   "source": [
    "## Fitting Linear Regression to the Dataset¶"
   ]
  },
  {
   "cell_type": "code",
   "execution_count": 5,
   "id": "9604fc19-bcca-4194-8bb3-04eae2f07611",
   "metadata": {
    "tags": []
   },
   "outputs": [
    {
     "data": {
      "text/html": [
       "<style>#sk-container-id-1 {color: black;}#sk-container-id-1 pre{padding: 0;}#sk-container-id-1 div.sk-toggleable {background-color: white;}#sk-container-id-1 label.sk-toggleable__label {cursor: pointer;display: block;width: 100%;margin-bottom: 0;padding: 0.3em;box-sizing: border-box;text-align: center;}#sk-container-id-1 label.sk-toggleable__label-arrow:before {content: \"▸\";float: left;margin-right: 0.25em;color: #696969;}#sk-container-id-1 label.sk-toggleable__label-arrow:hover:before {color: black;}#sk-container-id-1 div.sk-estimator:hover label.sk-toggleable__label-arrow:before {color: black;}#sk-container-id-1 div.sk-toggleable__content {max-height: 0;max-width: 0;overflow: hidden;text-align: left;background-color: #f0f8ff;}#sk-container-id-1 div.sk-toggleable__content pre {margin: 0.2em;color: black;border-radius: 0.25em;background-color: #f0f8ff;}#sk-container-id-1 input.sk-toggleable__control:checked~div.sk-toggleable__content {max-height: 200px;max-width: 100%;overflow: auto;}#sk-container-id-1 input.sk-toggleable__control:checked~label.sk-toggleable__label-arrow:before {content: \"▾\";}#sk-container-id-1 div.sk-estimator input.sk-toggleable__control:checked~label.sk-toggleable__label {background-color: #d4ebff;}#sk-container-id-1 div.sk-label input.sk-toggleable__control:checked~label.sk-toggleable__label {background-color: #d4ebff;}#sk-container-id-1 input.sk-hidden--visually {border: 0;clip: rect(1px 1px 1px 1px);clip: rect(1px, 1px, 1px, 1px);height: 1px;margin: -1px;overflow: hidden;padding: 0;position: absolute;width: 1px;}#sk-container-id-1 div.sk-estimator {font-family: monospace;background-color: #f0f8ff;border: 1px dotted black;border-radius: 0.25em;box-sizing: border-box;margin-bottom: 0.5em;}#sk-container-id-1 div.sk-estimator:hover {background-color: #d4ebff;}#sk-container-id-1 div.sk-parallel-item::after {content: \"\";width: 100%;border-bottom: 1px solid gray;flex-grow: 1;}#sk-container-id-1 div.sk-label:hover label.sk-toggleable__label {background-color: #d4ebff;}#sk-container-id-1 div.sk-serial::before {content: \"\";position: absolute;border-left: 1px solid gray;box-sizing: border-box;top: 0;bottom: 0;left: 50%;z-index: 0;}#sk-container-id-1 div.sk-serial {display: flex;flex-direction: column;align-items: center;background-color: white;padding-right: 0.2em;padding-left: 0.2em;position: relative;}#sk-container-id-1 div.sk-item {position: relative;z-index: 1;}#sk-container-id-1 div.sk-parallel {display: flex;align-items: stretch;justify-content: center;background-color: white;position: relative;}#sk-container-id-1 div.sk-item::before, #sk-container-id-1 div.sk-parallel-item::before {content: \"\";position: absolute;border-left: 1px solid gray;box-sizing: border-box;top: 0;bottom: 0;left: 50%;z-index: -1;}#sk-container-id-1 div.sk-parallel-item {display: flex;flex-direction: column;z-index: 1;position: relative;background-color: white;}#sk-container-id-1 div.sk-parallel-item:first-child::after {align-self: flex-end;width: 50%;}#sk-container-id-1 div.sk-parallel-item:last-child::after {align-self: flex-start;width: 50%;}#sk-container-id-1 div.sk-parallel-item:only-child::after {width: 0;}#sk-container-id-1 div.sk-dashed-wrapped {border: 1px dashed gray;margin: 0 0.4em 0.5em 0.4em;box-sizing: border-box;padding-bottom: 0.4em;background-color: white;}#sk-container-id-1 div.sk-label label {font-family: monospace;font-weight: bold;display: inline-block;line-height: 1.2em;}#sk-container-id-1 div.sk-label-container {text-align: center;}#sk-container-id-1 div.sk-container {/* jupyter's `normalize.less` sets `[hidden] { display: none; }` but bootstrap.min.css set `[hidden] { display: none !important; }` so we also need the `!important` here to be able to override the default hidden behavior on the sphinx rendered scikit-learn.org. See: https://github.com/scikit-learn/scikit-learn/issues/21755 */display: inline-block !important;position: relative;}#sk-container-id-1 div.sk-text-repr-fallback {display: none;}</style><div id=\"sk-container-id-1\" class=\"sk-top-container\"><div class=\"sk-text-repr-fallback\"><pre>LinearRegression()</pre><b>In a Jupyter environment, please rerun this cell to show the HTML representation or trust the notebook. <br />On GitHub, the HTML representation is unable to render, please try loading this page with nbviewer.org.</b></div><div class=\"sk-container\" hidden><div class=\"sk-item\"><div class=\"sk-estimator sk-toggleable\"><input class=\"sk-toggleable__control sk-hidden--visually\" id=\"sk-estimator-id-1\" type=\"checkbox\" checked><label for=\"sk-estimator-id-1\" class=\"sk-toggleable__label sk-toggleable__label-arrow\">LinearRegression</label><div class=\"sk-toggleable__content\"><pre>LinearRegression()</pre></div></div></div></div></div>"
      ],
      "text/plain": [
       "LinearRegression()"
      ]
     },
     "execution_count": 5,
     "metadata": {},
     "output_type": "execute_result"
    }
   ],
   "source": [
    "from sklearn.linear_model import LinearRegression\n",
    "model = LinearRegression()\n",
    "model.fit(dataset[['x']], dataset[['y']])"
   ]
  },
  {
   "cell_type": "markdown",
   "id": "01033022-217f-4262-a9b7-af167f3ba44a",
   "metadata": {},
   "source": [
    "## Visualizing the Linear Regression Results¶"
   ]
  },
  {
   "cell_type": "code",
   "execution_count": 6,
   "id": "ccac2ee1-89d0-4536-9263-894feaa46974",
   "metadata": {
    "tags": []
   },
   "outputs": [
    {
     "data": {
      "image/png": "[encoded data removed]",
      "text/plain": [
       "<Figure size 640x480 with 1 Axes>"
      ]
     },
     "metadata": {},
     "output_type": "display_data"
    }
   ],
   "source": [
    "import matplotlib.pyplot as plt\n",
    "plt.scatter(dataset[['x']], dataset [['y']], color = 'red')\n",
    "plt.plot(dataset[['x']], model.predict(dataset[['x']]), color = 'blue')\n",
    "plt.title('Y over X')\n",
    "plt.xlabel('X Axis')\n",
    "plt.ylabel('Y Axis')\n",
    "plt.show()"
   ]
  },
  {
   "cell_type": "markdown",
   "id": "ed7ae952-1459-4932-be35-872c4f986fe0",
   "metadata": {},
   "source": [
    "## Adjusted R-Square readout¶"
   ]
  },
  {
   "cell_type": "code",
   "execution_count": 7,
   "id": "2ac91b90-b7e5-4e27-8d4e-3107dd56010c",
   "metadata": {
    "tags": []
   },
   "outputs": [
    {
     "data": {
      "text/plain": [
       "0.9293641551281743"
      ]
     },
     "execution_count": 7,
     "metadata": {},
     "output_type": "execute_result"
    }
   ],
   "source": [
    "model.score(dataset[['x']], dataset[['y']])"
   ]
  },
  {
   "cell_type": "code",
   "execution_count": null,
   "id": "55f69503-50ee-4199-af79-6467f304789d",
   "metadata": {},
   "outputs": [],
   "source": []
  }
 ],
 "metadata": {
  "kernelspec": {
   "display_name": "Python 3 (ipykernel)",
   "language": "python",
   "name": "python3"
  },
  "language_info": {
   "codemirror_mode": {
    "name": "ipython",
    "version": 3
   },
   "file_extension": ".py",
   "mimetype": "text/x-python",
   "name": "python",
   "nbconvert_exporter": "python",
   "pygments_lexer": "ipython3",
   "version": "3.9.16"
  }
 },
 "nbformat": 4,
 "nbformat_minor": 5
}
