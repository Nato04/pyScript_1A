{
 "cells": [
  {
   "cell_type": "markdown",
   "id": "5704bcc6-38b3-48e1-98ed-8a76ed4ec733",
   "metadata": {},
   "source": [
    "## Python Modeling Assignment - Natour¶¶\n",
    "## BGSP 7030 2023 - Natour¶¶\n",
    "## Import pandas,scikitlearn¶\n"
   ]
  },
  {
   "cell_type": "markdown",
   "id": "6544757c-efa7-4769-a4a2-f949603e80bd",
   "metadata": {},
   "source": [
    "## Import pandas,scikitlearn¶"
   ]
  },
  {
   "cell_type": "code",
   "execution_count": null,
   "id": "7bf00168-d88b-4432-aa6b-222282f436ca",
   "metadata": {},
   "outputs": [],
   "source": [
    "import matplotlib.pyplot as plt\n",
    "import pandas as pd\n",
    "from sklearn.linear_model import LinearRegression"
   ]
  },
  {
   "cell_type": "markdown",
   "id": "2ac1e9e8-dbe8-491c-acea-09274f18f4d5",
   "metadata": {},
   "source": [
    "## Set Notebook Variables¶"
   ]
  },
  {
   "cell_type": "code",
   "execution_count": null,
   "id": "2111fb2f-ee6a-44e8-ae95-644650f2a8f6",
   "metadata": {},
   "outputs": [],
   "source": [
    "filename = \"regrex1.csv\""
   ]
  },
  {
   "cell_type": "markdown",
   "id": "cdff2988-c1bf-4f2a-a939-d3f8f81dee41",
   "metadata": {},
   "source": [
    "## Use read_csv() to read regex1.csv File¶"
   ]
  },
  {
   "cell_type": "code",
   "execution_count": null,
   "id": "767b621a-593e-4148-a371-361191070863",
   "metadata": {},
   "outputs": [],
   "source": [
    "dataset = pd.read_csv(\"regrex1.csv\")"
   ]
  },
  {
   "cell_type": "code",
   "execution_count": null,
   "id": "02d6116d-99e6-4b7e-892e-9b994d83f70d",
   "metadata": {},
   "outputs": [],
   "source": [
    "print (dataset)"
   ]
  },
  {
   "cell_type": "markdown",
   "id": "4d5200aa-6363-46fb-909a-722307113f0f",
   "metadata": {},
   "source": [
    "## Fitting Linear Regression to the Dataset¶"
   ]
  },
  {
   "cell_type": "code",
   "execution_count": null,
   "id": "9604fc19-bcca-4194-8bb3-04eae2f07611",
   "metadata": {},
   "outputs": [],
   "source": [
    "from sklearn.linear_model import LinearRegression\n",
    "model = LinearRegression()\n",
    "model.fit(dataset[['x']], dataset[['y']])"
   ]
  },
  {
   "cell_type": "markdown",
   "id": "01033022-217f-4262-a9b7-af167f3ba44a",
   "metadata": {},
   "source": [
    "## Visualizing the Linear Regression Results¶"
   ]
  },
  {
   "cell_type": "code",
   "execution_count": null,
   "id": "ccac2ee1-89d0-4536-9263-894feaa46974",
   "metadata": {},
   "outputs": [],
   "source": [
    "import matplotlib.pyplot as plt\n",
    "plt.scatter(dataset[['x']], dataset [['y']], color = 'red')\n",
    "plt.plot(dataset[['x']], model.predict(dataset[['x']]), color = 'blue')\n",
    "plt.title('Y over X')\n",
    "plt.xlabel('X Axis')\n",
    "plt.ylabel('Y Axis')\n",
    "plt.show()"
   ]
  },
  {
   "cell_type": "markdown",
   "id": "ed7ae952-1459-4932-be35-872c4f986fe0",
   "metadata": {},
   "source": [
    "## Adjusted R-Square readout¶"
   ]
  },
  {
   "cell_type": "code",
   "execution_count": null,
   "id": "2ac91b90-b7e5-4e27-8d4e-3107dd56010c",
   "metadata": {},
   "outputs": [],
   "source": [
    "model.score(dataset[['x']], dataset[['y']])"
   ]
  }
 ],
 "metadata": {
  "kernelspec": {
   "display_name": "Python 3 (ipykernel)",
   "language": "python",
   "name": "python3"
  },
  "language_info": {
   "codemirror_mode": {
    "name": "ipython",
    "version": 3
   },
   "file_extension": ".py",
   "mimetype": "text/x-python",
   "name": "python",
   "nbconvert_exporter": "python",
   "pygments_lexer": "ipython3",
   "version": "3.9.16"
  }
 },
 "nbformat": 4,
 "nbformat_minor": 5
}
